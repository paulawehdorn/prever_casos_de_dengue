{
 "cells": [
  {
   "cell_type": "markdown",
   "id": "254c0854",
   "metadata": {
    "heading_collapsed": true,
    "jp-MarkdownHeadingCollapsed": true
   },
   "source": [
    "# I. Entendimento do negócio"
   ]
  },
  {
   "cell_type": "markdown",
   "id": "c710f1db",
   "metadata": {
    "hidden": true
   },
   "source": [
    "A. Contexto"
   ]
  },
  {
   "cell_type": "markdown",
   "id": "56a0361d",
   "metadata": {
    "hidden": true
   },
   "source": [
    "A dengue é uma doença viral transmitida principalmente pelo mosquito Aedes aegypti e representa um desafio significativo para a saúde pública. Sua rápida disseminação e impacto na população exigem medidas preventivas e de controle eficazes por parte das autoridades de saúde. Com acesso a diversas informações relacionadas aos casos de dengue, o objetivo é prever o número de casos nos próximos 1500 dias."
   ]
  },
  {
   "cell_type": "markdown",
   "id": "19c7e7f4",
   "metadata": {
    "hidden": true
   },
   "source": [
    "B. Desafio"
   ]
  },
  {
   "cell_type": "markdown",
   "id": "44efb575",
   "metadata": {
    "hidden": true
   },
   "source": [
    "O desafio envolve prever a propagação da dengue com base em fatores como condições climáticas, densidade populacional, saneamento básico e aplicação de medidas de controle do vetor. A interação desses fatores pode variar de acordo com as diferentes regiões geográficas do Brasil."
   ]
  },
  {
   "cell_type": "markdown",
   "id": "95a635a6",
   "metadata": {
    "hidden": true
   },
   "source": [
    "C. Objetivo"
   ]
  },
  {
   "cell_type": "markdown",
   "id": "d59ab2d9",
   "metadata": {
    "hidden": true
   },
   "source": [
    "- Prever o número de casos nos próximos 1500 dias. Modelo de Regressão\n",
    "- Auxiliar as autoridades de saúde a direcionar recursos;\n",
    "- Priorizando as regiões mais susceptíveis;\n",
    "- Antecipando a necessidade de medidas preventivas."
   ]
  },
  {
   "cell_type": "markdown",
   "id": "08ec5445",
   "metadata": {
    "hidden": true
   },
   "source": [
    "D. Expectativa"
   ]
  },
  {
   "cell_type": "markdown",
   "id": "87fdb87e",
   "metadata": {
    "hidden": true
   },
   "source": [
    "- Avaliação das submissões será feita com base na Raiz Quadrada do Erro-Médio (RMSE)\n",
    "- Resultados finais devem ser apresentados em um arquivo CSV contendo as datas e as previsões do número de casos de dengue."
   ]
  },
  {
   "cell_type": "markdown",
   "id": "ac76cb3b",
   "metadata": {
    "jp-MarkdownHeadingCollapsed": true
   },
   "source": [
    "# II. Entendimento dos dados"
   ]
  },
  {
   "cell_type": "markdown",
   "id": "d2ae392a",
   "metadata": {
    "jp-MarkdownHeadingCollapsed": true
   },
   "source": [
    "## 0. IMPORTS"
   ]
  },
  {
   "cell_type": "markdown",
   "id": "49063d5c",
   "metadata": {},
   "source": [
    "### 0.1. Importing libraries"
   ]
  },
  {
   "cell_type": "code",
   "execution_count": 1,
   "id": "c50fabfd",
   "metadata": {
    "ExecuteTime": {
     "end_time": "2024-04-28T20:42:05.167858Z",
     "start_time": "2024-04-28T20:41:59.015779Z"
    }
   },
   "outputs": [],
   "source": [
    "import pandas as pd\n",
    "import numpy as np\n",
    "import seaborn as sns\n",
    "import matplotlib.pyplot as plt\n",
    "\n",
    "from unidecode import unidecode\n",
    "import inflection\n",
    "import datetime\n",
    "import math\n",
    "import random\n",
    "\n",
    "import xgboost as xgb\n",
    "\n",
    "from sklearn               import ensemble as en\n",
    "from sklearn               import preprocessing as pp\n",
    "from sklearn.metrics       import mean_absolute_error, mean_absolute_percentage_error, mean_squared_error\n",
    "from sklearn.ensemble      import RandomForestRegressor\n",
    "from sklearn.linear_model  import LinearRegression, Lasso"
   ]
  },
  {
   "cell_type": "markdown",
   "id": "268455e4",
   "metadata": {},
   "source": [
    "### 0.2. Loading data"
   ]
  },
  {
   "cell_type": "code",
   "execution_count": 2,
   "id": "d265eb9a",
   "metadata": {
    "ExecuteTime": {
     "end_time": "2024-04-28T20:42:05.589715Z",
     "start_time": "2024-04-28T20:42:05.173842Z"
    }
   },
   "outputs": [],
   "source": [
    "tb_fato = pd.read_csv('datasets/tb_fato.csv', low_memory=False, decimal='.')\n",
    "\n",
    "tb_casos_dengue = pd.read_csv('datasets/tb_casos_dengue.csv', low_memory=False, decimal='.')\n",
    "tb_agua_parada = agua_parada = pd.read_csv('datasets/tb_agua_parada.csv', low_memory=False, decimal='.')\n",
    "tb_condicoes_climaticas = pd.read_csv('datasets/tb_condicoes_climaticas.csv', low_memory=False, decimal='.')\n",
    "tb_falta_higiene = pd.read_csv('datasets/tb_falta_higiene.csv', low_memory=False, decimal='.')\n",
    "\n",
    "tb_conscientizacao = pd.read_csv('datasets/tb_conscientizacao.csv', low_memory=False, decimal='.')"
   ]
  },
  {
   "cell_type": "markdown",
   "id": "c1c7d89d",
   "metadata": {},
   "source": [
    "### 0.3. Helper functions"
   ]
  },
  {
   "cell_type": "code",
   "execution_count": 3,
   "id": "c5df037a",
   "metadata": {
    "ExecuteTime": {
     "end_time": "2024-04-28T20:42:05.651626Z",
     "start_time": "2024-04-28T20:42:05.597614Z"
    }
   },
   "outputs": [],
   "source": [
    "def rename_columns(cols):\n",
    "    title = lambda x: inflection.titleize(x)\n",
    "    snakecase = lambda x: inflection.underscore(x)\n",
    "    spaces = lambda x: x.replace(' ', '')\n",
    "    remove_accents = lambda x: unidecode(x)\n",
    "    cols = list(map(title, cols))\n",
    "    cols = list(map(spaces, cols))\n",
    "    cols = list(map(remove_accents, cols))\n",
    "    cols = list(map(snakecase, cols))\n",
    "    return cols\n",
    "\n",
    "def definir_proliferacao(semana):\n",
    "    if 22 <= semana <= 39:\n",
    "        return 'baixa'\n",
    "    elif semana < 15 or semana > 47:\n",
    "        return 'media'\n",
    "    elif 15 <= semana < 22 or 39 < semana <= 47:\n",
    "        return 'alta'\n",
    "    \n",
    "## Função de calcular media das semanas\n",
    "def preencher_media_semana(df, coluna):\n",
    "    # Loop ao longo das semanas\n",
    "    for semana in range(1, 53):\n",
    "        # Calcular a media da coluna para a semana atual\n",
    "        media_da_semana = df.loc[df['semana_do_ano'] == semana, coluna].mean()\n",
    "\n",
    "        # Preencher os valores ausentes na coluna para a semana atual com a média calculada\n",
    "        df.loc[df['semana_do_ano'] == semana, coluna] = df.loc[df['semana_do_ano'] == semana, coluna].fillna(media_da_semana)\n",
    "    return df2\n",
    "\n",
    "# Função das métricas de performance dos modelos de machine learning\n",
    "def ml_error(model_name, y, yhat):\n",
    "    mae = mean_absolute_error(y, yhat)\n",
    "    mape = mean_absolute_percentage_error (y, yhat)\n",
    "    rmse = np.sqrt(mean_squared_error(y, yhat))\n",
    "    return pd.DataFrame({'Model Name': model_name,\n",
    "                         'MAE': mae,\n",
    "                         'MAPE': mape,\n",
    "                         'RMSE': rmse}, index=[0])\n",
    "\n",
    "# Função cross-validation de performance dos modelos de machine learning\n",
    "def cross_validation(x_training, kfold, model_name, model, verbose=False):\n",
    "    mae_list = []\n",
    "    mape_list = []\n",
    "    rmse_list = []\n",
    "\n",
    "    for k in reversed(range(1, kfold+1)):\n",
    "        if verbose:\n",
    "            print('KFold Number: {}'.format(k))\n",
    "\n",
    "        # Data inicial e fim para validação\n",
    "        validation_start_date = x_training['date'].max() - datetime.timedelta(days=k*6*7)\n",
    "        validation_end_date = x_training['date'].max() - datetime.timedelta(days=(k-1)*6*7)\n",
    "\n",
    "        # Filtrar dataset\n",
    "        training = x_training[x_training['date'] < validation_start_date]\n",
    "        validation = x_training[(x_training['date'] >= validation_start_date) & (x_training['date'] <= validation_end_date)]\n",
    "\n",
    "        # Training dataset\n",
    "        xtraining = training.drop(['date', 'casos_de_dengue'], axis=1)\n",
    "        ytraining = training['casos_de_dengue']\n",
    "\n",
    "        # Validation dataset\n",
    "        xvalidation = validation.drop(['date', 'casos_de_dengue'], axis=1)\n",
    "        yvalidation = validation['casos_de_dengue']\n",
    "\n",
    "        # Model\n",
    "        m = model.fit(xtraining, ytraining)\n",
    "\n",
    "        # Prediction\n",
    "        yhat = m.predict(xvalidation)\n",
    "\n",
    "        # Performance\n",
    "        m_result = ml_error(model_name, np.expm1( yvalidation ), np.expm1( yhat ))\n",
    "\n",
    "        # Guarda a performance de cada iteração kfold\n",
    "        mae_list.append(m_result['MAE'])\n",
    "        mape_list.append(m_result['MAPE'])\n",
    "        rmse_list.append(m_result['RMSE'])\n",
    "    \n",
    "    return pd.DataFrame({'Model  Name': model_name,\n",
    "                         'MAE CV': np.round(np.mean(mae_list), 2).astype(str) + ' +/- ' + np.round(np.std(mae_list), 2).astype(str),\n",
    "                         'MAPE CV': np.round(np.mean(mape_list), 2).astype(str) + ' +/- ' + np.round(np.std(mape_list), 2).astype(str),\n",
    "                         'RMSE CV': np.round(np.mean(rmse_list), 2).astype(str) + ' +/- ' + np.round(np.std(rmse_list), 2).astype(str)}, index=[0])"
   ]
  },
  {
   "cell_type": "markdown",
   "id": "ecd2475a",
   "metadata": {},
   "source": [
    "### 0.4. Dicionário de dados"
   ]
  },
  {
   "cell_type": "markdown",
   "id": "15680171",
   "metadata": {},
   "source": [
    "Arquivos\n"
   ]
  },
  {
   "cell_type": "markdown",
   "id": "e50d23c5",
   "metadata": {},
   "source": [
    "features.csv\n",
    "\n",
    "Feature\t| Description\n",
    "-- | --\n",
    "Date \t| identificador único da loja;\n"
   ]
  },
  {
   "cell_type": "markdown",
   "id": "4e922641",
   "metadata": {
    "jp-MarkdownHeadingCollapsed": true
   },
   "source": [
    "## 1. DATA DESCRIPTION"
   ]
  },
  {
   "cell_type": "markdown",
   "id": "ea42376b",
   "metadata": {},
   "source": [
    "### 1.1. Unir tabelas e renomear colunas"
   ]
  },
  {
   "cell_type": "code",
   "execution_count": 4,
   "id": "00a61e96",
   "metadata": {
    "ExecuteTime": {
     "end_time": "2024-04-28T20:42:05.871381Z",
     "start_time": "2024-04-28T20:42:05.658653Z"
    }
   },
   "outputs": [],
   "source": [
    "# Unir tabelas\n",
    "df = pd.merge(tb_fato, tb_casos_dengue, how='left', on='Date', suffixes=('_fato', '_casos'))\n",
    "df = df.merge(tb_agua_parada, how='left', on='Date', suffixes=('', '_agua'))\n",
    "df = df.merge(tb_condicoes_climaticas, how='left', on='Date', suffixes=('', '_cli'))\n",
    "df = df.merge(tb_falta_higiene, how='left', on='Date', suffixes=('', '_hig'))\n",
    "df = df.merge(tb_conscientizacao, how='left', left_on='conscientização da população', right_on='id', suffixes=('', '_consc'))\n",
    "\n",
    "df1 = df.copy()"
   ]
  },
  {
   "cell_type": "code",
   "execution_count": 5,
   "id": "b11bcbf5",
   "metadata": {
    "ExecuteTime": {
     "end_time": "2024-04-28T20:42:05.903425Z",
     "start_time": "2024-04-28T20:42:05.878398Z"
    }
   },
   "outputs": [],
   "source": [
    "# Renomear colunas\n",
    "df1.columns = rename_columns(df1.columns)"
   ]
  },
  {
   "cell_type": "markdown",
   "id": "8b991f12",
   "metadata": {},
   "source": [
    "### 1.2. Data Dimensions"
   ]
  },
  {
   "cell_type": "code",
   "execution_count": 6,
   "id": "01149c3a",
   "metadata": {
    "ExecuteTime": {
     "end_time": "2024-04-28T20:42:05.935429Z",
     "start_time": "2024-04-28T20:42:05.909402Z"
    }
   },
   "outputs": [
    {
     "name": "stdout",
     "output_type": "stream",
     "text": [
      "Quantidade de linhas: 27,028\n",
      "Quantidade de colunas: 22\n"
     ]
    }
   ],
   "source": [
    "print('Quantidade de linhas: {:,}'.format(df1.shape[0]))\n",
    "print('Quantidade de colunas: {:,}'.format(df1.shape[1]))"
   ]
  },
  {
   "cell_type": "markdown",
   "id": "2e02c9fd",
   "metadata": {},
   "source": [
    "### 1.3. Data Types"
   ]
  },
  {
   "cell_type": "code",
   "execution_count": 7,
   "id": "9b82c272",
   "metadata": {
    "ExecuteTime": {
     "end_time": "2024-04-28T20:42:05.983055Z",
     "start_time": "2024-04-28T20:42:05.940398Z"
    }
   },
   "outputs": [
    {
     "data": {
      "text/plain": [
       "date                                           object\n",
       "conscientizacao_da_populacao                    int64\n",
       "condicoes_de_moradia_precarias                 object\n",
       "falta_de_acesso_a_servicos_de_saude            object\n",
       "migracao_de_pessoas_de_areas_endemicas         object\n",
       "transporte_de_mercadorias_em_areas_urbanas     object\n",
       "outros                                         object\n",
       "presenca_do_mosquito                           object\n",
       "casos_de_dengue                               float64\n",
       "presenca_de_criadouros                         object\n",
       "agua_parada_em_terrenos_baldios                object\n",
       "presenca_de_piscinas_sem_manutencao            object\n",
       "presenca_de_recipientes_sem_tampas             object\n",
       "precipitacao                                   object\n",
       "umidade                                        object\n",
       "temperatura                                    object\n",
       "falta_de_coleta_de_lixo                        object\n",
       "areas_com_acumulo_de_entulhos                  object\n",
       "falta_de_controle_de_pragas                    object\n",
       "taxa_de_tratamento_de_esgoto                   object\n",
       "id                                              int64\n",
       "status                                         object\n",
       "dtype: object"
      ]
     },
     "execution_count": 7,
     "metadata": {},
     "output_type": "execute_result"
    }
   ],
   "source": [
    "df1.dtypes"
   ]
  },
  {
   "cell_type": "markdown",
   "id": "ae926fc8",
   "metadata": {},
   "source": [
    "### 1.4. Check NA's"
   ]
  },
  {
   "cell_type": "code",
   "execution_count": 8,
   "id": "4a7a5875",
   "metadata": {
    "ExecuteTime": {
     "end_time": "2024-04-28T20:42:06.188547Z",
     "start_time": "2024-04-28T20:42:05.988052Z"
    }
   },
   "outputs": [
    {
     "data": {
      "text/plain": [
       "date                                             0\n",
       "conscientizacao_da_populacao                     0\n",
       "condicoes_de_moradia_precarias                 144\n",
       "falta_de_acesso_a_servicos_de_saude            198\n",
       "migracao_de_pessoas_de_areas_endemicas         156\n",
       "transporte_de_mercadorias_em_areas_urbanas     146\n",
       "outros                                         124\n",
       "presenca_do_mosquito                           122\n",
       "casos_de_dengue                               3000\n",
       "presenca_de_criadouros                         156\n",
       "agua_parada_em_terrenos_baldios                146\n",
       "presenca_de_piscinas_sem_manutencao            126\n",
       "presenca_de_recipientes_sem_tampas             154\n",
       "precipitacao                                   118\n",
       "umidade                                        144\n",
       "temperatura                                    118\n",
       "falta_de_coleta_de_lixo                        132\n",
       "areas_com_acumulo_de_entulhos                  126\n",
       "falta_de_controle_de_pragas                    148\n",
       "taxa_de_tratamento_de_esgoto                   148\n",
       "id                                               0\n",
       "status                                           0\n",
       "dtype: int64"
      ]
     },
     "execution_count": 8,
     "metadata": {},
     "output_type": "execute_result"
    }
   ],
   "source": [
    "df1.isna().sum()"
   ]
  },
  {
   "cell_type": "markdown",
   "id": "d29aa181",
   "metadata": {},
   "source": [
    "### 1.5. Check duplicated"
   ]
  },
  {
   "cell_type": "code",
   "execution_count": 9,
   "id": "ba753ad5",
   "metadata": {
    "ExecuteTime": {
     "end_time": "2024-04-28T20:42:06.395277Z",
     "start_time": "2024-04-28T20:42:06.194552Z"
    }
   },
   "outputs": [
    {
     "data": {
      "text/plain": [
       "13514"
      ]
     },
     "execution_count": 9,
     "metadata": {},
     "output_type": "execute_result"
    }
   ],
   "source": [
    "df1.duplicated().sum()"
   ]
  },
  {
   "cell_type": "markdown",
   "id": "158ef2ac",
   "metadata": {},
   "source": [
    "## 2. TRATAMENTO DE DADOS"
   ]
  },
  {
   "cell_type": "code",
   "execution_count": 10,
   "id": "5dbaea5b",
   "metadata": {
    "ExecuteTime": {
     "end_time": "2024-04-28T20:42:06.443273Z",
     "start_time": "2024-04-28T20:42:06.409282Z"
    }
   },
   "outputs": [],
   "source": [
    "df2 = df1.copy()"
   ]
  },
  {
   "cell_type": "code",
   "execution_count": 11,
   "id": "247f17a2",
   "metadata": {
    "ExecuteTime": {
     "end_time": "2024-04-28T20:42:06.473911Z",
     "start_time": "2024-04-28T20:42:06.448263Z"
    }
   },
   "outputs": [],
   "source": [
    "colunas_selecionadas = ['casos_de_dengue', 'date', 'presenca_do_mosquito', 'precipitacao', 'umidade', 'temperatura']\n",
    "df2 = df2.loc[:, colunas_selecionadas]"
   ]
  },
  {
   "cell_type": "markdown",
   "id": "20c12fef",
   "metadata": {},
   "source": [
    "### 2.1. Tratamento de duplicatas"
   ]
  },
  {
   "cell_type": "code",
   "execution_count": 12,
   "id": "b15a207e",
   "metadata": {
    "ExecuteTime": {
     "end_time": "2024-04-28T20:42:06.567253Z",
     "start_time": "2024-04-28T20:42:06.481919Z"
    }
   },
   "outputs": [],
   "source": [
    "df2 = df2.drop_duplicates().reset_index(drop=True)"
   ]
  },
  {
   "cell_type": "code",
   "execution_count": 13,
   "id": "a4472058",
   "metadata": {
    "ExecuteTime": {
     "end_time": "2024-04-28T20:42:06.630239Z",
     "start_time": "2024-04-28T20:42:06.572272Z"
    }
   },
   "outputs": [
    {
     "data": {
      "text/plain": [
       "0"
      ]
     },
     "execution_count": 13,
     "metadata": {},
     "output_type": "execute_result"
    }
   ],
   "source": [
    "df2.duplicated().sum()"
   ]
  },
  {
   "cell_type": "markdown",
   "id": "923cf220",
   "metadata": {},
   "source": [
    "### 2.2. Converter e transformar variáveis"
   ]
  },
  {
   "cell_type": "markdown",
   "id": "2b860fdf",
   "metadata": {},
   "source": [
    "#### 2.2.1. Transformar 'indisponivel' em NA"
   ]
  },
  {
   "cell_type": "code",
   "execution_count": 14,
   "id": "6fc3952e",
   "metadata": {
    "ExecuteTime": {
     "end_time": "2024-04-28T20:42:06.677840Z",
     "start_time": "2024-04-28T20:42:06.636245Z"
    }
   },
   "outputs": [],
   "source": [
    "colunas = ['precipitacao', \n",
    "           'umidade',\n",
    "           'temperatura',\n",
    "           'presenca_do_mosquito']\n",
    "\n",
    "# Substituir 'indisponivel' por NaN\n",
    "for col in colunas:\n",
    "    df2[col] = df2[col].replace('indisponivel', np.nan)\n",
    "\n",
    "# Substituir status '<>' por NaN\n",
    "#df2['status'] = df2['status'].replace('<>', np.nan)"
   ]
  },
  {
   "cell_type": "markdown",
   "id": "b74d3b4d",
   "metadata": {},
   "source": [
    "#### 2.2.2. Remover as linhas que não tem casos de dengue "
   ]
  },
  {
   "cell_type": "code",
   "execution_count": 15,
   "id": "c5a1c0e0",
   "metadata": {
    "ExecuteTime": {
     "end_time": "2024-04-28T20:42:06.741828Z",
     "start_time": "2024-04-28T20:42:06.683839Z"
    }
   },
   "outputs": [
    {
     "data": {
      "text/html": [
       "<div>\n",
       "<style scoped>\n",
       "    .dataframe tbody tr th:only-of-type {\n",
       "        vertical-align: middle;\n",
       "    }\n",
       "\n",
       "    .dataframe tbody tr th {\n",
       "        vertical-align: top;\n",
       "    }\n",
       "\n",
       "    .dataframe thead th {\n",
       "        text-align: right;\n",
       "    }\n",
       "</style>\n",
       "<table border=\"1\" class=\"dataframe\">\n",
       "  <thead>\n",
       "    <tr style=\"text-align: right;\">\n",
       "      <th></th>\n",
       "      <th>casos_de_dengue</th>\n",
       "      <th>date</th>\n",
       "      <th>presenca_do_mosquito</th>\n",
       "      <th>precipitacao</th>\n",
       "      <th>umidade</th>\n",
       "      <th>temperatura</th>\n",
       "    </tr>\n",
       "  </thead>\n",
       "  <tbody>\n",
       "    <tr>\n",
       "      <th>0</th>\n",
       "      <td>NaN</td>\n",
       "      <td>2022-09-09</td>\n",
       "      <td>85338</td>\n",
       "      <td>2,721541</td>\n",
       "      <td>69,4714597525</td>\n",
       "      <td>27,5437740884</td>\n",
       "    </tr>\n",
       "    <tr>\n",
       "      <th>1</th>\n",
       "      <td>NaN</td>\n",
       "      <td>2019-11-23</td>\n",
       "      <td>61676</td>\n",
       "      <td>19,603274</td>\n",
       "      <td>68,0779578056</td>\n",
       "      <td>25,3532101942</td>\n",
       "    </tr>\n",
       "    <tr>\n",
       "      <th>2</th>\n",
       "      <td>NaN</td>\n",
       "      <td>2019-11-24</td>\n",
       "      <td>70395</td>\n",
       "      <td>30,420928</td>\n",
       "      <td>60,8851345050</td>\n",
       "      <td>25,8403117691</td>\n",
       "    </tr>\n",
       "    <tr>\n",
       "      <th>3</th>\n",
       "      <td>NaN</td>\n",
       "      <td>2019-11-25</td>\n",
       "      <td>455030</td>\n",
       "      <td>52,309753</td>\n",
       "      <td>79,2489200784</td>\n",
       "      <td>27,4500480298</td>\n",
       "    </tr>\n",
       "    <tr>\n",
       "      <th>4</th>\n",
       "      <td>NaN</td>\n",
       "      <td>2019-11-26</td>\n",
       "      <td>137839</td>\n",
       "      <td>25,596321</td>\n",
       "      <td>76,9084041919</td>\n",
       "      <td>29,1414920945</td>\n",
       "    </tr>\n",
       "  </tbody>\n",
       "</table>\n",
       "</div>"
      ],
      "text/plain": [
       "   casos_de_dengue        date presenca_do_mosquito precipitacao  \\\n",
       "0              NaN  2022-09-09                85338     2,721541   \n",
       "1              NaN  2019-11-23                61676    19,603274   \n",
       "2              NaN  2019-11-24                70395    30,420928   \n",
       "3              NaN  2019-11-25               455030    52,309753   \n",
       "4              NaN  2019-11-26               137839    25,596321   \n",
       "\n",
       "         umidade    temperatura  \n",
       "0  69,4714597525  27,5437740884  \n",
       "1  68,0779578056  25,3532101942  \n",
       "2  60,8851345050  25,8403117691  \n",
       "3  79,2489200784  27,4500480298  \n",
       "4  76,9084041919  29,1414920945  "
      ]
     },
     "execution_count": 15,
     "metadata": {},
     "output_type": "execute_result"
    }
   ],
   "source": [
    "teste = df2.loc[df2['casos_de_dengue'].isna(), :].reset_index(drop=True)\n",
    "teste.head()"
   ]
  },
  {
   "cell_type": "code",
   "execution_count": 16,
   "id": "e849dbd2",
   "metadata": {
    "ExecuteTime": {
     "end_time": "2024-04-28T20:42:06.773428Z",
     "start_time": "2024-04-28T20:42:06.746867Z"
    }
   },
   "outputs": [],
   "source": [
    "casos_faltantes = df2.loc[df2['casos_de_dengue'].isna(), :].index\n",
    "df2 = df2.drop(casos_faltantes, axis=0).reset_index(drop=True)"
   ]
  },
  {
   "cell_type": "markdown",
   "id": "33e88864",
   "metadata": {},
   "source": [
    "#### 2.2.3. Converter variáveis"
   ]
  },
  {
   "cell_type": "code",
   "execution_count": 17,
   "id": "49cdb74c",
   "metadata": {
    "ExecuteTime": {
     "end_time": "2024-04-28T20:42:06.900041Z",
     "start_time": "2024-04-28T20:42:06.778454Z"
    }
   },
   "outputs": [],
   "source": [
    "colunas_float = ['precipitacao',\n",
    "                 'umidade',\n",
    "                 'temperatura']\n",
    "\n",
    "# Substituir ',' por '.'\n",
    "for col in colunas_float:\n",
    "    df2[col] = df2[col].apply(lambda x: x.replace(',', '.') if isinstance(x, str) else x)\n",
    "\n",
    "# Converter colunas_float de object para float\n",
    "for col in colunas_float:\n",
    "    df2[col] = df2[col].astype(float)\n",
    "\n",
    "# Converter date de object para datetime\n",
    "df2['date'] = pd.to_datetime(df2['date'])"
   ]
  },
  {
   "cell_type": "code",
   "execution_count": 18,
   "id": "36280010",
   "metadata": {
    "ExecuteTime": {
     "end_time": "2024-04-28T20:42:06.948010Z",
     "start_time": "2024-04-28T20:42:06.905022Z"
    }
   },
   "outputs": [],
   "source": [
    "# Criar colunas de dia, mes, ano e semana do ano\n",
    "#df2['dia'] = df2['date'].dt.day\n",
    "df2['mes'] = df2['date'].dt.month\n",
    "#df2['ano'] = df2['date'].dt.year\n",
    "#df2['semana_do_ano'] = df2['date'].dt.weekofyear\n",
    "df2['semana_do_ano'] = df2['date'].dt.isocalendar().week\n",
    "\n",
    "# 'ano_semana': semana do ano, no formato string 'YYYY-WW'\n",
    "#df2['ano_semana'] = df2['date'].dt.strftime( '%Y-%W' )"
   ]
  },
  {
   "cell_type": "markdown",
   "id": "aa20ad90",
   "metadata": {},
   "source": [
    "#### 2.2.4. Preencher NA's"
   ]
  },
  {
   "cell_type": "code",
   "execution_count": 22,
   "id": "a2ea8028-e2d0-452e-ad8e-521dc81751d3",
   "metadata": {},
   "outputs": [
    {
     "data": {
      "text/plain": [
       "array(['874324', '869290', '880145', ..., '369384', '299842', '367044'],\n",
       "      dtype=object)"
      ]
     },
     "execution_count": 22,
     "metadata": {},
     "output_type": "execute_result"
    }
   ],
   "source": [
    "df2['presenca_do_mosquito'].unique()"
   ]
  },
  {
   "cell_type": "code",
   "execution_count": 19,
   "id": "792c425d",
   "metadata": {
    "ExecuteTime": {
     "end_time": "2024-04-28T20:42:06.994602Z",
     "start_time": "2024-04-28T20:42:06.955040Z"
    }
   },
   "outputs": [
    {
     "ename": "TypeError",
     "evalue": "Cannot convert ['874324' '869290' '880145' ... '369384' '299842' '367044'] to numeric",
     "output_type": "error",
     "traceback": [
      "\u001b[1;31m---------------------------------------------------------------------------\u001b[0m",
      "\u001b[1;31mTypeError\u001b[0m                                 Traceback (most recent call last)",
      "Cell \u001b[1;32mIn[19], line 1\u001b[0m\n\u001b[1;32m----> 1\u001b[0m presenca_mediana \u001b[38;5;241m=\u001b[39m df2[\u001b[38;5;124m'\u001b[39m\u001b[38;5;124mpresenca_do_mosquito\u001b[39m\u001b[38;5;124m'\u001b[39m]\u001b[38;5;241m.\u001b[39mmedian()\n\u001b[0;32m      2\u001b[0m df2[\u001b[38;5;124m'\u001b[39m\u001b[38;5;124mpresenca_do_mosquito\u001b[39m\u001b[38;5;124m'\u001b[39m] \u001b[38;5;241m=\u001b[39m df2[\u001b[38;5;124m'\u001b[39m\u001b[38;5;124mpresenca_do_mosquito\u001b[39m\u001b[38;5;124m'\u001b[39m]\u001b[38;5;241m.\u001b[39mfillna(presenca_mediana)\n",
      "File \u001b[1;32m~\\anaconda3\\envs\\hackday8\\Lib\\site-packages\\pandas\\core\\series.py:6559\u001b[0m, in \u001b[0;36mSeries.median\u001b[1;34m(self, axis, skipna, numeric_only, **kwargs)\u001b[0m\n\u001b[0;32m   6551\u001b[0m \u001b[38;5;129m@doc\u001b[39m(make_doc(\u001b[38;5;124m\"\u001b[39m\u001b[38;5;124mmedian\u001b[39m\u001b[38;5;124m\"\u001b[39m, ndim\u001b[38;5;241m=\u001b[39m\u001b[38;5;241m1\u001b[39m))\n\u001b[0;32m   6552\u001b[0m \u001b[38;5;28;01mdef\u001b[39;00m \u001b[38;5;21mmedian\u001b[39m(\n\u001b[0;32m   6553\u001b[0m     \u001b[38;5;28mself\u001b[39m,\n\u001b[1;32m   (...)\u001b[0m\n\u001b[0;32m   6557\u001b[0m     \u001b[38;5;241m*\u001b[39m\u001b[38;5;241m*\u001b[39mkwargs,\n\u001b[0;32m   6558\u001b[0m ):\n\u001b[1;32m-> 6559\u001b[0m     \u001b[38;5;28;01mreturn\u001b[39;00m NDFrame\u001b[38;5;241m.\u001b[39mmedian(\u001b[38;5;28mself\u001b[39m, axis, skipna, numeric_only, \u001b[38;5;241m*\u001b[39m\u001b[38;5;241m*\u001b[39mkwargs)\n",
      "File \u001b[1;32m~\\anaconda3\\envs\\hackday8\\Lib\\site-packages\\pandas\\core\\generic.py:12431\u001b[0m, in \u001b[0;36mNDFrame.median\u001b[1;34m(self, axis, skipna, numeric_only, **kwargs)\u001b[0m\n\u001b[0;32m  12424\u001b[0m \u001b[38;5;28;01mdef\u001b[39;00m \u001b[38;5;21mmedian\u001b[39m(\n\u001b[0;32m  12425\u001b[0m     \u001b[38;5;28mself\u001b[39m,\n\u001b[0;32m  12426\u001b[0m     axis: Axis \u001b[38;5;241m|\u001b[39m \u001b[38;5;28;01mNone\u001b[39;00m \u001b[38;5;241m=\u001b[39m \u001b[38;5;241m0\u001b[39m,\n\u001b[1;32m   (...)\u001b[0m\n\u001b[0;32m  12429\u001b[0m     \u001b[38;5;241m*\u001b[39m\u001b[38;5;241m*\u001b[39mkwargs,\n\u001b[0;32m  12430\u001b[0m ) \u001b[38;5;241m-\u001b[39m\u001b[38;5;241m>\u001b[39m Series \u001b[38;5;241m|\u001b[39m \u001b[38;5;28mfloat\u001b[39m:\n\u001b[1;32m> 12431\u001b[0m     \u001b[38;5;28;01mreturn\u001b[39;00m \u001b[38;5;28mself\u001b[39m\u001b[38;5;241m.\u001b[39m_stat_function(\n\u001b[0;32m  12432\u001b[0m         \u001b[38;5;124m\"\u001b[39m\u001b[38;5;124mmedian\u001b[39m\u001b[38;5;124m\"\u001b[39m, nanops\u001b[38;5;241m.\u001b[39mnanmedian, axis, skipna, numeric_only, \u001b[38;5;241m*\u001b[39m\u001b[38;5;241m*\u001b[39mkwargs\n\u001b[0;32m  12433\u001b[0m     )\n",
      "File \u001b[1;32m~\\anaconda3\\envs\\hackday8\\Lib\\site-packages\\pandas\\core\\generic.py:12377\u001b[0m, in \u001b[0;36mNDFrame._stat_function\u001b[1;34m(self, name, func, axis, skipna, numeric_only, **kwargs)\u001b[0m\n\u001b[0;32m  12373\u001b[0m nv\u001b[38;5;241m.\u001b[39mvalidate_func(name, (), kwargs)\n\u001b[0;32m  12375\u001b[0m validate_bool_kwarg(skipna, \u001b[38;5;124m\"\u001b[39m\u001b[38;5;124mskipna\u001b[39m\u001b[38;5;124m\"\u001b[39m, none_allowed\u001b[38;5;241m=\u001b[39m\u001b[38;5;28;01mFalse\u001b[39;00m)\n\u001b[1;32m> 12377\u001b[0m \u001b[38;5;28;01mreturn\u001b[39;00m \u001b[38;5;28mself\u001b[39m\u001b[38;5;241m.\u001b[39m_reduce(\n\u001b[0;32m  12378\u001b[0m     func, name\u001b[38;5;241m=\u001b[39mname, axis\u001b[38;5;241m=\u001b[39maxis, skipna\u001b[38;5;241m=\u001b[39mskipna, numeric_only\u001b[38;5;241m=\u001b[39mnumeric_only\n\u001b[0;32m  12379\u001b[0m )\n",
      "File \u001b[1;32m~\\anaconda3\\envs\\hackday8\\Lib\\site-packages\\pandas\\core\\series.py:6457\u001b[0m, in \u001b[0;36mSeries._reduce\u001b[1;34m(self, op, name, axis, skipna, numeric_only, filter_type, **kwds)\u001b[0m\n\u001b[0;32m   6452\u001b[0m     \u001b[38;5;66;03m# GH#47500 - change to TypeError to match other methods\u001b[39;00m\n\u001b[0;32m   6453\u001b[0m     \u001b[38;5;28;01mraise\u001b[39;00m \u001b[38;5;167;01mTypeError\u001b[39;00m(\n\u001b[0;32m   6454\u001b[0m         \u001b[38;5;124mf\u001b[39m\u001b[38;5;124m\"\u001b[39m\u001b[38;5;124mSeries.\u001b[39m\u001b[38;5;132;01m{\u001b[39;00mname\u001b[38;5;132;01m}\u001b[39;00m\u001b[38;5;124m does not allow \u001b[39m\u001b[38;5;132;01m{\u001b[39;00mkwd_name\u001b[38;5;132;01m}\u001b[39;00m\u001b[38;5;124m=\u001b[39m\u001b[38;5;132;01m{\u001b[39;00mnumeric_only\u001b[38;5;132;01m}\u001b[39;00m\u001b[38;5;124m \u001b[39m\u001b[38;5;124m\"\u001b[39m\n\u001b[0;32m   6455\u001b[0m         \u001b[38;5;124m\"\u001b[39m\u001b[38;5;124mwith non-numeric dtypes.\u001b[39m\u001b[38;5;124m\"\u001b[39m\n\u001b[0;32m   6456\u001b[0m     )\n\u001b[1;32m-> 6457\u001b[0m \u001b[38;5;28;01mreturn\u001b[39;00m op(delegate, skipna\u001b[38;5;241m=\u001b[39mskipna, \u001b[38;5;241m*\u001b[39m\u001b[38;5;241m*\u001b[39mkwds)\n",
      "File \u001b[1;32m~\\anaconda3\\envs\\hackday8\\Lib\\site-packages\\pandas\\core\\nanops.py:147\u001b[0m, in \u001b[0;36mbottleneck_switch.__call__.<locals>.f\u001b[1;34m(values, axis, skipna, **kwds)\u001b[0m\n\u001b[0;32m    145\u001b[0m         result \u001b[38;5;241m=\u001b[39m alt(values, axis\u001b[38;5;241m=\u001b[39maxis, skipna\u001b[38;5;241m=\u001b[39mskipna, \u001b[38;5;241m*\u001b[39m\u001b[38;5;241m*\u001b[39mkwds)\n\u001b[0;32m    146\u001b[0m \u001b[38;5;28;01melse\u001b[39;00m:\n\u001b[1;32m--> 147\u001b[0m     result \u001b[38;5;241m=\u001b[39m alt(values, axis\u001b[38;5;241m=\u001b[39maxis, skipna\u001b[38;5;241m=\u001b[39mskipna, \u001b[38;5;241m*\u001b[39m\u001b[38;5;241m*\u001b[39mkwds)\n\u001b[0;32m    149\u001b[0m \u001b[38;5;28;01mreturn\u001b[39;00m result\n",
      "File \u001b[1;32m~\\anaconda3\\envs\\hackday8\\Lib\\site-packages\\pandas\\core\\nanops.py:787\u001b[0m, in \u001b[0;36mnanmedian\u001b[1;34m(values, axis, skipna, mask)\u001b[0m\n\u001b[0;32m    785\u001b[0m     inferred \u001b[38;5;241m=\u001b[39m lib\u001b[38;5;241m.\u001b[39minfer_dtype(values)\n\u001b[0;32m    786\u001b[0m     \u001b[38;5;28;01mif\u001b[39;00m inferred \u001b[38;5;129;01min\u001b[39;00m [\u001b[38;5;124m\"\u001b[39m\u001b[38;5;124mstring\u001b[39m\u001b[38;5;124m\"\u001b[39m, \u001b[38;5;124m\"\u001b[39m\u001b[38;5;124mmixed\u001b[39m\u001b[38;5;124m\"\u001b[39m]:\n\u001b[1;32m--> 787\u001b[0m         \u001b[38;5;28;01mraise\u001b[39;00m \u001b[38;5;167;01mTypeError\u001b[39;00m(\u001b[38;5;124mf\u001b[39m\u001b[38;5;124m\"\u001b[39m\u001b[38;5;124mCannot convert \u001b[39m\u001b[38;5;132;01m{\u001b[39;00mvalues\u001b[38;5;132;01m}\u001b[39;00m\u001b[38;5;124m to numeric\u001b[39m\u001b[38;5;124m\"\u001b[39m)\n\u001b[0;32m    788\u001b[0m \u001b[38;5;28;01mtry\u001b[39;00m:\n\u001b[0;32m    789\u001b[0m     values \u001b[38;5;241m=\u001b[39m values\u001b[38;5;241m.\u001b[39mastype(\u001b[38;5;124m\"\u001b[39m\u001b[38;5;124mf8\u001b[39m\u001b[38;5;124m\"\u001b[39m)\n",
      "\u001b[1;31mTypeError\u001b[0m: Cannot convert ['874324' '869290' '880145' ... '369384' '299842' '367044'] to numeric"
     ]
    }
   ],
   "source": [
    "presenca_mediana = df2['presenca_do_mosquito'].median()\n",
    "df2['presenca_do_mosquito'] = df2['presenca_do_mosquito'].fillna(presenca_mediana)"
   ]
  },
  {
   "cell_type": "code",
   "execution_count": null,
   "id": "1666dade",
   "metadata": {
    "ExecuteTime": {
     "end_time": "2024-04-28T20:42:07.939203Z",
     "start_time": "2024-04-28T20:42:07.002608Z"
    }
   },
   "outputs": [],
   "source": [
    "preencher_media_semana(df2, ['umidade', 'temperatura', 'precipitacao'])"
   ]
  },
  {
   "cell_type": "code",
   "execution_count": null,
   "id": "10f792a8",
   "metadata": {
    "ExecuteTime": {
     "end_time": "2024-04-28T20:42:07.971297Z",
     "start_time": "2024-04-28T20:42:07.947203Z"
    }
   },
   "outputs": [],
   "source": [
    "colunas_int = ['casos_de_dengue', \n",
    "               'presenca_do_mosquito']\n",
    "\n",
    "# Converter colunas_int de object para int\n",
    "for col in colunas_int:\n",
    "    df2[col] = df2[col].astype(int)"
   ]
  },
  {
   "cell_type": "code",
   "execution_count": null,
   "id": "fabc2992",
   "metadata": {
    "ExecuteTime": {
     "end_time": "2024-04-28T20:42:08.001322Z",
     "start_time": "2024-04-28T20:42:07.979310Z"
    }
   },
   "outputs": [],
   "source": [
    "#temp_media = df2['temperatura'].mean()\n",
    "#df2['temperatura'] = df2['temperatura'].fillna(temp_media)\n",
    "\n",
    "#umidade_mediana = df2['umidade'].median()\n",
    "#df2['umidade'] = df2['umidade'].fillna(umidade_mediana)\n",
    "\n",
    "#precipitacao_mediana = df2['precipitacao'].median()\n",
    "#df2['precipitacao'] = df2['precipitacao'].fillna(precipitacao_mediana)"
   ]
  },
  {
   "cell_type": "markdown",
   "id": "cd2dd6fb",
   "metadata": {},
   "source": [
    "#### 2.2.5. Excluir os  demais NA's"
   ]
  },
  {
   "cell_type": "code",
   "execution_count": null,
   "id": "4cb7d8d3",
   "metadata": {
    "ExecuteTime": {
     "end_time": "2024-04-28T20:42:08.094881Z",
     "start_time": "2024-04-28T20:42:08.055330Z"
    }
   },
   "outputs": [],
   "source": [
    "df2 = df2.dropna().reset_index(drop=True)"
   ]
  },
  {
   "cell_type": "code",
   "execution_count": null,
   "id": "70d952d3",
   "metadata": {
    "ExecuteTime": {
     "end_time": "2024-04-28T20:42:08.047303Z",
     "start_time": "2024-04-28T20:42:08.010302Z"
    }
   },
   "outputs": [],
   "source": [
    "df2.isna().sum()"
   ]
  },
  {
   "cell_type": "markdown",
   "id": "df03a31c",
   "metadata": {},
   "source": [
    "### 2.4. FEATURE ENGINEERING"
   ]
  },
  {
   "cell_type": "markdown",
   "id": "ccd25c46",
   "metadata": {},
   "source": [
    "#### 2.4.1. Separar data"
   ]
  },
  {
   "cell_type": "code",
   "execution_count": null,
   "id": "5b8226ed",
   "metadata": {
    "ExecuteTime": {
     "end_time": "2024-04-28T20:42:08.141876Z",
     "start_time": "2024-04-28T20:42:08.100876Z"
    }
   },
   "outputs": [],
   "source": [
    "df2.head()"
   ]
  },
  {
   "cell_type": "markdown",
   "id": "b72ef248",
   "metadata": {
    "ExecuteTime": {
     "end_time": "2024-04-27T23:13:15.748112Z",
     "start_time": "2024-04-27T23:13:15.724347Z"
    }
   },
   "source": [
    "#### 2.4.2. Separar em 3 grupos"
   ]
  },
  {
   "cell_type": "code",
   "execution_count": null,
   "id": "e916735c",
   "metadata": {
    "ExecuteTime": {
     "end_time": "2024-04-28T20:42:08.157935Z",
     "start_time": "2024-04-28T20:42:08.149875Z"
    }
   },
   "outputs": [],
   "source": [
    "#df2['proliferacao'] = df2['semana_do_ano'].apply(lambda x: definir_proliferacao(x))"
   ]
  },
  {
   "cell_type": "markdown",
   "id": "baf9d44e",
   "metadata": {
    "ExecuteTime": {
     "end_time": "2024-04-27T17:13:22.653848Z",
     "start_time": "2024-04-27T17:13:22.644009Z"
    }
   },
   "source": [
    "## 3. EXPLORATORY DATA ANALYSIS (EDA)"
   ]
  },
  {
   "cell_type": "code",
   "execution_count": null,
   "id": "8acdc9f9",
   "metadata": {
    "ExecuteTime": {
     "end_time": "2024-04-28T20:42:08.190460Z",
     "start_time": "2024-04-28T20:42:08.167454Z"
    }
   },
   "outputs": [],
   "source": [
    "df3 = df2.copy()"
   ]
  },
  {
   "cell_type": "code",
   "execution_count": null,
   "id": "7e27e138",
   "metadata": {
    "ExecuteTime": {
     "end_time": "2024-04-28T20:42:08.236460Z",
     "start_time": "2024-04-28T20:42:08.212496Z"
    }
   },
   "outputs": [],
   "source": [
    "df3_num = df3.select_dtypes(include = ['int64', 'float64', 'int32', 'float32'])\n",
    "df3_cat = df3.select_dtypes(exclude = ['int64', 'float64', 'int32', 'float32'])"
   ]
  },
  {
   "cell_type": "markdown",
   "id": "9dec9a64",
   "metadata": {},
   "source": [
    "### 3.1.  Análise Multivariada"
   ]
  },
  {
   "cell_type": "code",
   "execution_count": null,
   "id": "00c7b7d4",
   "metadata": {
    "ExecuteTime": {
     "end_time": "2024-04-28T20:42:09.874601Z",
     "start_time": "2024-04-28T20:42:08.245456Z"
    }
   },
   "outputs": [],
   "source": [
    "# presenca_do_mosquito, precipitacao, umidade, temperatura\n",
    "corr = df3_num.corr(method='pearson')\n",
    "fig, ax = plt.subplots(figsize=(16, 11))\n",
    "ax = sns.heatmap(corr, annot=True, ax=ax)"
   ]
  },
  {
   "cell_type": "markdown",
   "id": "4d092e66",
   "metadata": {},
   "source": [
    "### 3.2. Análise Bivariada"
   ]
  },
  {
   "cell_type": "code",
   "execution_count": null,
   "id": "3ed529d4-0f22-48f8-bdd2-139ea61ff321",
   "metadata": {},
   "outputs": [],
   "source": [
    "# Define o estilo \"whitegrid\" do Seaborn\n",
    "sns.set_style('whitegrid')"
   ]
  },
  {
   "cell_type": "markdown",
   "id": "cacdd36c-ecc8-418e-87e3-20f3c298ebbc",
   "metadata": {},
   "source": [
    "#### 3.2.1. casos_de_dengue x tempo"
   ]
  },
  {
   "cell_type": "code",
   "execution_count": null,
   "id": "8e0e772f-bc4c-4e36-b3aa-2f70cdaa4574",
   "metadata": {},
   "outputs": [],
   "source": [
    "# Casos de dengue por mês é uma variável em que a média se distancia muito dos outliers e até do q3 \n",
    "fig, ax = plt.subplots(2, 1, sharey=True, figsize=(15, 8))\n",
    "sns.barplot(data=df3, x='mes', y='casos_de_dengue', ax=ax[0])\n",
    "ax[0].set_title('Casos de dengue por Meses do ano')\n",
    "ax[0].set_ylabel('Média de casos de dengue por mês')\n",
    "sns.boxplot(data=df3, x='mes', y='casos_de_dengue', ax=ax[1])\n",
    "ax[1].set_ylabel('Quantidade de casos de dengue por mês')\n",
    "plt.show()"
   ]
  },
  {
   "cell_type": "code",
   "execution_count": null,
   "id": "f17e5361-dde5-44c1-a0bb-eb1d1ca30cff",
   "metadata": {},
   "outputs": [],
   "source": [
    "# Casos de dengue por semana_do_ano é uma variável em que a média se distancia muito dos outliers e até do q3 \n",
    "fig, ax = plt.subplots(2, 1, sharey=True, figsize=(15, 8))\n",
    "sns.barplot(data=df3, x='semana_do_ano', y='casos_de_dengue', ax=ax[0])\n",
    "ax[0].set_title('Casos de dengue por Semanas do ano')\n",
    "ax[0].set_ylabel('Média de casos de dengue por semana do ano')\n",
    "sns.boxplot(data=df3, x='semana_do_ano', y='casos_de_dengue', ax=ax[1])\n",
    "ax[1].set_ylabel('Quantidade de casos de dengue por semana do ano')\n",
    "plt.show()"
   ]
  },
  {
   "cell_type": "code",
   "execution_count": null,
   "id": "87b27010-26e7-4386-b1b1-a7fcc8e66b57",
   "metadata": {},
   "outputs": [],
   "source": [
    "fig, ax = plt.subplots(figsize=(15, 8))\n",
    "sns.barplot(data=df3, x='semana_do_ano', y='casos_de_dengue')\n",
    "ax.set_xlabel('Mês')\n",
    "ax.set_ylabel('Casos de dengue')\n",
    "ax.set_title('')\n",
    "plt.show()"
   ]
  },
  {
   "cell_type": "markdown",
   "id": "99dd257c",
   "metadata": {},
   "source": [
    "#### 3.2.1. casos_de_dengue x presenca_do_mosquito"
   ]
  },
  {
   "cell_type": "code",
   "execution_count": null,
   "id": "3a6e84f4-1197-4f44-8322-99fd107f548a",
   "metadata": {},
   "outputs": [],
   "source": [
    "fig, ax = plt.subplots(figsize=(15, 8))\n",
    "sns.scatterplot(data=df3, x='presenca_do_mosquito', y='casos_de_dengue')\n",
    "ax.set_xlabel('Presença do mosquito')\n",
    "ax.set_ylabel('Casos de dengue')\n",
    "ax.set_title('A qtd de casos de dengue cresce a medida que cresce a presença do mosquito')\n",
    "plt.show()"
   ]
  },
  {
   "cell_type": "code",
   "execution_count": null,
   "id": "add03335",
   "metadata": {
    "ExecuteTime": {
     "end_time": "2024-04-28T20:42:10.536714Z",
     "start_time": "2024-04-28T20:42:09.880566Z"
    }
   },
   "outputs": [],
   "source": [
    "fig = plt.figure(figsize=(15, 8))\n",
    "plt.scatter(x='presenca_do_mosquito', y='casos_de_dengue', data=df3)\n",
    "plt.show()"
   ]
  },
  {
   "cell_type": "markdown",
   "id": "a91f6ce7-cc60-4a5c-b957-a8bf704897cd",
   "metadata": {
    "ExecuteTime": {
     "end_time": "2024-04-28T20:42:19.894333Z",
     "start_time": "2024-04-28T20:42:10.543739Z"
    },
    "jp-MarkdownHeadingCollapsed": true
   },
   "source": [
    "#======== Gráfico Presença de Mosquito e Casos de Dengue x Semana\n",
    "# Crie a figura e o primeiro eixo y\n",
    "fig, ax1 = plt.subplots(figsize=(15, 8))\n",
    "sns.lineplot(x=df3['semana_do_ano'], y=df3['casos_de_dengue'], ax=ax1, color='b', label='Casos de Dengue')\n",
    "\n",
    "# Criar o segundo eixo y\n",
    "ax2 = ax1.twinx()\n",
    "sns.lineplot(x=df3['semana_do_ano'], y=df3['presenca_do_mosquito'], ax=ax2, color='r', label='Presença de Mosquitos')\n",
    "\n",
    "# Legenda\n",
    "lines, labels = ax1.get_legend_handles_labels()\n",
    "lines2, labels2 = ax2.get_legend_handles_labels()\n",
    "ax2.legend(lines + lines2, labels + labels2, loc='upper left')\n",
    "\n",
    "# Exibir o gráfico\n",
    "plt.title('Casos de Dengue e Presença de Mosquitos ao longo das Semanas do Ano')\n",
    "plt.show()"
   ]
  },
  {
   "cell_type": "markdown",
   "id": "b3704000",
   "metadata": {},
   "source": [
    "#### 3.2.2. casos_de_dengue x precipitacao"
   ]
  },
  {
   "cell_type": "code",
   "execution_count": null,
   "id": "0f4dc6f0-914b-4de7-8f19-0e9fe1be54f8",
   "metadata": {},
   "outputs": [],
   "source": [
    "fig, ax = plt.subplots(figsize=(15, 8))\n",
    "sns.scatterplot(data=df3, x='precipitacao', y='presenca_do_mosquito')\n",
    "ax.set_xlabel('Precipitação')\n",
    "ax.set_ylabel('Presença do mosquito')\n",
    "ax.set_title('')\n",
    "plt.show()"
   ]
  },
  {
   "cell_type": "code",
   "execution_count": null,
   "id": "3bcace91",
   "metadata": {
    "ExecuteTime": {
     "end_time": "2024-04-28T20:42:20.527126Z",
     "start_time": "2024-04-28T20:42:19.900348Z"
    }
   },
   "outputs": [],
   "source": [
    "# Talvez faça sentido transformar em 3 categorias\n",
    "fig = plt.figure(figsize=(15, 8))\n",
    "plt.scatter(x='precipitacao', y='presenca_do_mosquito', data=df3)\n",
    "plt.show()"
   ]
  },
  {
   "cell_type": "markdown",
   "id": "58968fd8",
   "metadata": {},
   "source": [
    "#### 3.2.3. casos_de_dengue x umidade"
   ]
  },
  {
   "cell_type": "code",
   "execution_count": null,
   "id": "9fc09ffa",
   "metadata": {
    "ExecuteTime": {
     "end_time": "2024-04-28T20:42:21.221254Z",
     "start_time": "2024-04-28T20:42:20.532114Z"
    }
   },
   "outputs": [],
   "source": [
    "# Talvez faça sentido transformar em 3 categorias\n",
    "fig = plt.figure(figsize=(15, 8))\n",
    "plt.scatter(x='umidade', y='presenca_do_mosquito', data=df3)\n",
    "plt.show()"
   ]
  },
  {
   "cell_type": "markdown",
   "id": "4fcd5dfb-cf99-47ee-9dfc-fa32ca85a834",
   "metadata": {
    "ExecuteTime": {
     "end_time": "2024-04-28T20:42:30.587317Z",
     "start_time": "2024-04-28T20:42:21.229249Z"
    }
   },
   "source": [
    "#======== Gráfico umidade e Casos de Dengue x Semana\n",
    "# Crie a figura e o primeiro eixo y\n",
    "fig, ax1 = plt.subplots(figsize=(15, 8))\n",
    "sns.lineplot(x=df3['semana_do_ano'], y=df3['presenca_do_mosquito'], ax=ax1, color='b', label='Casos de Dengue')\n",
    "\n",
    "# Criar o segundo eixo y\n",
    "ax2 = ax1.twinx()\n",
    "sns.lineplot(x=df3['semana_do_ano'], y=df3['umidade'], ax=ax2, color='r', label='Umidade')\n",
    "\n",
    "# Legenda\n",
    "lines, labels = ax1.get_legend_handles_labels()\n",
    "lines2, labels2 = ax2.get_legend_handles_labels()\n",
    "ax2.legend(lines + lines2, labels + labels2, loc='upper left')\n",
    "\n",
    "# Exibir o gráfico\n",
    "plt.title('Casos de Dengue e Umidade ao longo das Semanas do Ano')\n",
    "plt.show()"
   ]
  },
  {
   "cell_type": "code",
   "execution_count": null,
   "id": "5225c627",
   "metadata": {
    "ExecuteTime": {
     "end_time": "2024-04-28T20:42:39.583636Z",
     "start_time": "2024-04-28T20:42:30.594839Z"
    }
   },
   "outputs": [],
   "source": [
    "#======== Gráfico umidade e Casos de Dengue x Semana\n",
    "# Crie a figura e o primeiro eixo y\n",
    "#fig, ax1 = plt.subplots(figsize=(15, 8))\n",
    "#sns.lineplot(x=df3['semana_do_ano'], y=df3['casos_de_dengue'], ax=ax1, color='b', label='Casos de Dengue')\n",
    "\n",
    "# Criar o segundo eixo y\n",
    "#ax2 = ax1.twinx()\n",
    "#sns.lineplot(x=df3['semana_do_ano'], y=df3['umidade'], ax=ax2, color='r', label='Umidade')\n",
    "\n",
    "# Legenda\n",
    "#lines, labels = ax1.get_legend_handles_labels()\n",
    "#lines2, labels2 = ax2.get_legend_handles_labels()\n",
    "#ax2.legend(lines + lines2, labels + labels2, loc='upper left')\n",
    "\n",
    "# Exibir o gráfico\n",
    "#plt.title('Casos de Dengue e Umidade ao longo das Semanas do Ano')\n",
    "#plt.show()"
   ]
  },
  {
   "cell_type": "markdown",
   "id": "0daee08b",
   "metadata": {},
   "source": [
    "#### 3.2.4. casos_de_dengue x temperatura"
   ]
  },
  {
   "cell_type": "code",
   "execution_count": null,
   "id": "701b1774",
   "metadata": {
    "ExecuteTime": {
     "end_time": "2024-04-28T20:42:40.119872Z",
     "start_time": "2024-04-28T20:42:39.591635Z"
    }
   },
   "outputs": [],
   "source": [
    "# Talvez faça sentido transformar em 4 categorias\n",
    "fig = plt.figure(figsize=(15, 8))\n",
    "plt.scatter(x='temperatura', y='presenca_do_mosquito', data=df3)\n",
    "plt.show()"
   ]
  },
  {
   "cell_type": "markdown",
   "id": "92d379b8-7fa6-4648-9cb9-a013aeb73db0",
   "metadata": {
    "ExecuteTime": {
     "end_time": "2024-04-28T20:42:49.022793Z",
     "start_time": "2024-04-28T20:42:40.124873Z"
    }
   },
   "source": [
    "#======== Gráfico Temperatura e Casos de Dengue x Semana\n",
    "# Crie a figura e o primeiro eixo y\n",
    "fig, ax1 = plt.subplots(figsize=(15, 8))\n",
    "sns.lineplot(x=df3['semana_do_ano'], y=df3['casos_de_dengue'], ax=ax1, color='b', label='Casos de Dengue')\n",
    "\n",
    "# Criar o segundo eixo y\n",
    "ax2 = ax1.twinx()\n",
    "sns.lineplot(x=df3['semana_do_ano'], y=df3['temperatura'], ax=ax2, color='r', label='Temperatura')\n",
    "\n",
    "# Legenda\n",
    "lines, labels = ax1.get_legend_handles_labels()\n",
    "lines2, labels2 = ax2.get_legend_handles_labels()\n",
    "ax2.legend(lines + lines2, labels + labels2, loc='upper left')\n",
    "\n",
    "# Exibir o gráfico\n",
    "plt.title('Casos de Dengue e Temperatura ao longo das semanas do ano')\n",
    "plt.show()"
   ]
  },
  {
   "cell_type": "markdown",
   "id": "318f476d",
   "metadata": {},
   "source": [
    "#### 3.2.5. casos_de_dengue x data"
   ]
  },
  {
   "cell_type": "code",
   "execution_count": null,
   "id": "a827340e",
   "metadata": {
    "ExecuteTime": {
     "end_time": "2024-04-28T20:42:49.041796Z",
     "start_time": "2024-04-28T20:42:49.029800Z"
    }
   },
   "outputs": [],
   "source": [
    "#fig = plt.figure(figsize=(15, 8))\n",
    "#sns.lineplot(x=df3['mes'], y=df3['casos_de_dengue'])\n",
    "#plt.show()"
   ]
  },
  {
   "cell_type": "markdown",
   "id": "518a0814-4dbc-4c27-85d4-2e381fb868ca",
   "metadata": {
    "ExecuteTime": {
     "end_time": "2024-04-28T20:42:53.827404Z",
     "start_time": "2024-04-28T20:42:49.048793Z"
    }
   },
   "source": [
    "fig = plt.figure(figsize=(15, 8))\n",
    "sns.lineplot(x=df3['semana_do_ano'], y=df3['casos_de_dengue'])\n",
    "plt.show()"
   ]
  },
  {
   "cell_type": "code",
   "execution_count": null,
   "id": "ef086479",
   "metadata": {
    "ExecuteTime": {
     "end_time": "2024-04-28T20:42:53.843407Z",
     "start_time": "2024-04-28T20:42:53.832401Z"
    }
   },
   "outputs": [],
   "source": [
    "#fig = plt.figure(figsize=(15, 8))\n",
    "#sns.lineplot(x=df3['ano'], y=df3['casos_de_dengue'])\n",
    "#plt.show()"
   ]
  },
  {
   "cell_type": "markdown",
   "id": "9cbac778",
   "metadata": {},
   "source": [
    "#### 3.2.6. casos_de_dengue x proliferacao"
   ]
  },
  {
   "cell_type": "code",
   "execution_count": null,
   "id": "43de498d",
   "metadata": {
    "ExecuteTime": {
     "end_time": "2024-04-28T20:42:53.891401Z",
     "start_time": "2024-04-28T20:42:53.850398Z"
    }
   },
   "outputs": [],
   "source": [
    "df3.head()"
   ]
  },
  {
   "cell_type": "code",
   "execution_count": null,
   "id": "0fa748e2",
   "metadata": {
    "ExecuteTime": {
     "end_time": "2024-04-28T20:42:53.921938Z",
     "start_time": "2024-04-28T20:42:53.903408Z"
    }
   },
   "outputs": [],
   "source": [
    "#fig = plt.figure(figsize=(7, 5))\n",
    "#plt.bar(df3['proliferacao'])\n",
    "#plt.show"
   ]
  },
  {
   "cell_type": "markdown",
   "id": "d46bbb76",
   "metadata": {},
   "source": [
    "### 3.3. Análise Univariada"
   ]
  },
  {
   "cell_type": "markdown",
   "id": "134899e9",
   "metadata": {},
   "source": [
    "#### 3.3.1. Casos de dengue"
   ]
  },
  {
   "cell_type": "code",
   "execution_count": null,
   "id": "541afc22",
   "metadata": {
    "ExecuteTime": {
     "end_time": "2024-04-28T20:42:53.968962Z",
     "start_time": "2024-04-28T20:42:53.930965Z"
    }
   },
   "outputs": [],
   "source": [
    "q3 = df3['casos_de_dengue'].quantile(0.75)\n",
    "casos_comuns = df3[df3['casos_de_dengue'] < 41350]"
   ]
  },
  {
   "cell_type": "code",
   "execution_count": null,
   "id": "308a3473",
   "metadata": {
    "ExecuteTime": {
     "end_time": "2024-04-28T20:42:54.428801Z",
     "start_time": "2024-04-28T20:42:53.974966Z"
    }
   },
   "outputs": [],
   "source": [
    "plt.figure(figsize=(15, 8))\n",
    "sns.boxplot(x=df3['casos_de_dengue'])\n",
    "plt.show()"
   ]
  },
  {
   "cell_type": "code",
   "execution_count": null,
   "id": "d35f738d",
   "metadata": {
    "ExecuteTime": {
     "end_time": "2024-04-28T20:42:54.947881Z",
     "start_time": "2024-04-28T20:42:54.434804Z"
    }
   },
   "outputs": [],
   "source": [
    "plt.figure(figsize=(15, 8))\n",
    "plt.hist(df3['casos_de_dengue'], bins=10)\n",
    "plt.show()"
   ]
  },
  {
   "cell_type": "markdown",
   "id": "ce0f0461",
   "metadata": {},
   "source": [
    "#### 3.3.2. Variáveis numéricas"
   ]
  },
  {
   "cell_type": "code",
   "execution_count": null,
   "id": "982dd120",
   "metadata": {
    "ExecuteTime": {
     "end_time": "2024-04-28T20:42:59.244273Z",
     "start_time": "2024-04-28T20:42:54.955900Z"
    }
   },
   "outputs": [],
   "source": [
    "# Plotar histogramas para todas as colunas numéricas\n",
    "df3.hist(figsize=(15, 10))\n",
    "plt.tight_layout()\n",
    "plt.show()"
   ]
  },
  {
   "cell_type": "markdown",
   "id": "e0de7f7d",
   "metadata": {},
   "source": [
    "#### 3.3.3. Variáveis categóricas"
   ]
  },
  {
   "cell_type": "markdown",
   "id": "b45b33e7",
   "metadata": {},
   "source": [
    "# III. Preparação dos dados"
   ]
  },
  {
   "cell_type": "markdown",
   "id": "b6cf58f3",
   "metadata": {},
   "source": [
    "## 4. DATA PREPARATION"
   ]
  },
  {
   "cell_type": "code",
   "execution_count": null,
   "id": "413b8595",
   "metadata": {
    "ExecuteTime": {
     "end_time": "2024-04-28T20:42:59.260269Z",
     "start_time": "2024-04-28T20:42:59.252271Z"
    }
   },
   "outputs": [],
   "source": [
    "df4 = df3.copy()"
   ]
  },
  {
   "cell_type": "code",
   "execution_count": null,
   "id": "d5acd32a",
   "metadata": {
    "ExecuteTime": {
     "end_time": "2024-04-28T20:42:59.324301Z",
     "start_time": "2024-04-28T20:42:59.270274Z"
    }
   },
   "outputs": [],
   "source": [
    "#colunas_selecionadas = ['casos_de_dengue', 'presenca_do_mosquito', 'precipitacao', 'umidade', 'temperatura', 'status']\n",
    "#df4 = df4.loc[:, colunas_selecionadas]\n",
    "df4.head()"
   ]
  },
  {
   "cell_type": "markdown",
   "id": "2068bbdc",
   "metadata": {},
   "source": [
    "### 4.1. Normalização do fenômeno"
   ]
  },
  {
   "cell_type": "code",
   "execution_count": null,
   "id": "14e3ffd1",
   "metadata": {
    "ExecuteTime": {
     "end_time": "2024-04-28T20:42:59.357855Z",
     "start_time": "2024-04-28T20:42:59.331858Z"
    }
   },
   "outputs": [],
   "source": [
    "df4['casos_de_dengue'] = np.log1p(df4['casos_de_dengue'])"
   ]
  },
  {
   "cell_type": "code",
   "execution_count": null,
   "id": "eef1dfc1",
   "metadata": {
    "ExecuteTime": {
     "end_time": "2024-04-28T20:43:00.256520Z",
     "start_time": "2024-04-28T20:42:59.364859Z"
    }
   },
   "outputs": [],
   "source": [
    "sns.displot(df4['casos_de_dengue']);"
   ]
  },
  {
   "cell_type": "markdown",
   "id": "6db8b443",
   "metadata": {},
   "source": [
    "### 4.2. Rescala de Variáveis Numéricas"
   ]
  },
  {
   "cell_type": "code",
   "execution_count": null,
   "id": "520fa676",
   "metadata": {
    "ExecuteTime": {
     "end_time": "2024-04-28T20:43:00.367187Z",
     "start_time": "2024-04-28T20:43:00.262493Z"
    }
   },
   "outputs": [],
   "source": [
    "df3.describe().T"
   ]
  },
  {
   "cell_type": "code",
   "execution_count": null,
   "id": "60adb2d5",
   "metadata": {
    "ExecuteTime": {
     "end_time": "2024-04-28T20:43:00.445751Z",
     "start_time": "2024-04-28T20:43:00.373156Z"
    }
   },
   "outputs": [],
   "source": [
    "mm = pp.MinMaxScaler()\n",
    "ss = pp.StandardScaler()\n",
    "rs = pp.RobustScaler()\n",
    "\n",
    "df4['presenca_do_mosquito'] = mm.fit_transform(df4[['presenca_do_mosquito']])\n",
    "df4['precipitacao']         = ss.fit_transform(df4[['precipitacao']])\n",
    "df4['umidade']              = ss.fit_transform(df4[['umidade']])\n",
    "df4['temperatura']          = ss.fit_transform(df4[['temperatura']])"
   ]
  },
  {
   "cell_type": "code",
   "execution_count": null,
   "id": "5804036e",
   "metadata": {
    "ExecuteTime": {
     "end_time": "2024-04-28T20:43:00.556352Z",
     "start_time": "2024-04-28T20:43:00.452739Z"
    }
   },
   "outputs": [],
   "source": [
    "df4.describe().T"
   ]
  },
  {
   "cell_type": "markdown",
   "id": "12f7bca8",
   "metadata": {},
   "source": [
    "### 4.3. Encodar variáveis categóricas"
   ]
  },
  {
   "cell_type": "code",
   "execution_count": null,
   "id": "df0d3c2d",
   "metadata": {
    "ExecuteTime": {
     "end_time": "2024-04-28T20:43:00.572356Z",
     "start_time": "2024-04-28T20:43:00.561335Z"
    }
   },
   "outputs": [],
   "source": [
    "#df4 = pd.get_dummies(df4, prefix=['status'], columns=['status'])\n",
    "#df4 = pd.get_dummies(df4, prefix=['proliferacao'], columns=['proliferacao'])"
   ]
  },
  {
   "cell_type": "markdown",
   "id": "dd3a2e94",
   "metadata": {},
   "source": [
    "### 4.4. Transformação de natureza"
   ]
  },
  {
   "cell_type": "code",
   "execution_count": null,
   "id": "e735dc03",
   "metadata": {
    "ExecuteTime": {
     "end_time": "2024-04-28T20:43:00.855432Z",
     "start_time": "2024-04-28T20:43:00.579332Z"
    }
   },
   "outputs": [],
   "source": [
    "# mes\n",
    "df4['mes_sin'] = df4['mes'].apply( lambda x: np.sin( x * (2 * np.pi/12) ) )\n",
    "df4['mes_cos'] = df4['mes'].apply( lambda x: np.cos( x * (2 * np.pi/12) ) )\n",
    "\n",
    "# week_of_year\n",
    "df4['semana_do_ano_sin'] = df4['semana_do_ano'].apply( lambda x: np.sin( x * (2 * np.pi/52) ) )\n",
    "df4['semana_do_ano_cos'] = df4['semana_do_ano'].apply( lambda x: np.cos( x * (2 * np.pi/52) ) )\n",
    "\n",
    "# day_of_week\n",
    "#df4['day_of_week_sin'] = df4['day_of_week'].apply( lambda x: np.sin( x * (2 * np.pi/7) ) )\n",
    "#df4['day_of_week_cos'] = df4['day_of_week'].apply( lambda x: np.cos( x * (2 * np.pi/7) ) )\n",
    "\n",
    "# day\n",
    "#df4['day_sin'] = df4['day'].apply( lambda x: np.sin( x * (2 * np.pi/30) ) )\n",
    "#df4['day_cos'] = df4['day'].apply( lambda x: np.cos( x * (2 * np.pi/30) ) )"
   ]
  },
  {
   "cell_type": "markdown",
   "id": "12a8657e",
   "metadata": {},
   "source": [
    "## 5. FEATURE SELECTION"
   ]
  },
  {
   "cell_type": "code",
   "execution_count": null,
   "id": "1ba0ddf5",
   "metadata": {
    "ExecuteTime": {
     "end_time": "2024-04-28T20:43:00.885418Z",
     "start_time": "2024-04-28T20:43:00.860447Z"
    }
   },
   "outputs": [],
   "source": [
    "df5 = df4.copy()"
   ]
  },
  {
   "cell_type": "code",
   "execution_count": null,
   "id": "344f2a02",
   "metadata": {
    "ExecuteTime": {
     "end_time": "2024-04-28T20:43:00.948072Z",
     "start_time": "2024-04-28T20:43:00.891431Z"
    }
   },
   "outputs": [],
   "source": [
    "# Ordenar por data\n",
    "df5 = df4.sort_values(by='date').reset_index(drop=True)\n",
    "df5.head()"
   ]
  },
  {
   "cell_type": "markdown",
   "id": "3e008cb6",
   "metadata": {},
   "source": [
    "### 5.1. Feature Importance"
   ]
  },
  {
   "cell_type": "code",
   "execution_count": null,
   "id": "789694dd",
   "metadata": {
    "ExecuteTime": {
     "end_time": "2024-04-28T20:43:00.979063Z",
     "start_time": "2024-04-28T20:43:00.953084Z"
    }
   },
   "outputs": [],
   "source": [
    "x_train_n = df5.drop(['casos_de_dengue', 'date'], axis=1)\n",
    "y_train_n = df5['casos_de_dengue']"
   ]
  },
  {
   "cell_type": "code",
   "execution_count": null,
   "id": "765b3757",
   "metadata": {
    "ExecuteTime": {
     "end_time": "2024-04-28T20:43:02.690149Z",
     "start_time": "2024-04-28T20:43:00.985073Z"
    }
   },
   "outputs": [],
   "source": [
    "# Model definition\n",
    "forest = en.ExtraTreesRegressor(n_estimators=100, random_state=42, n_jobs=-1)\n",
    "forest.fit(x_train_n, y_train_n)"
   ]
  },
  {
   "cell_type": "code",
   "execution_count": null,
   "id": "ed1b742c",
   "metadata": {
    "ExecuteTime": {
     "end_time": "2024-04-28T20:43:03.226665Z",
     "start_time": "2024-04-28T20:43:02.692152Z"
    }
   },
   "outputs": [],
   "source": [
    "importances = forest.feature_importances_      # Salva as importâncias das features\n",
    "std = np.std([tree.feature_importances_ for tree in forest.estimators_],axis=0)\n",
    "indices = np.argsort(importances)[::-1]        # Importâncias das árvores ordenadas pelo maior valor\n",
    "\n",
    "#print the feature ranking\n",
    "print('Feature Ranking')\n",
    "df = pd.DataFrame()\n",
    "for i,j in zip(x_train_n,forest.feature_importances_):\n",
    "    aux = pd.DataFrame({'feature': i, 'importance': j},index=[0])\n",
    "    df = pd.concat([df,aux],axis=0)\n",
    "    \n",
    "print(df.sort_values('importance',ascending=False))\n",
    "\n",
    "# Plot the impurity-based feature importances of the forest\n",
    "plt.figure()\n",
    "plt.title('Feature Importances')\n",
    "plt.bar(range(x_train_n.shape[1]), importances[indices], color='g', yerr=std[indices], align='center')\n",
    "plt.xticks(range(x_train_n.shape[1]),indices)\n",
    "plt.xlim([-1,x_train_n.shape[1]])\n",
    "plt.show()"
   ]
  },
  {
   "cell_type": "markdown",
   "id": "188d9f67",
   "metadata": {},
   "source": [
    "### 5.2. Split dataframe Train / Test"
   ]
  },
  {
   "cell_type": "code",
   "execution_count": null,
   "id": "1f1631d9",
   "metadata": {
    "ExecuteTime": {
     "end_time": "2024-04-28T20:43:03.257866Z",
     "start_time": "2024-04-28T20:43:03.231162Z"
    }
   },
   "outputs": [],
   "source": [
    "# Calcula a data de corte\n",
    "# df5[['amostra', 'date']].groupby('amostra').max().reset_index().max()[1] - datetime.timedelta(days=500)\n",
    "df5['date'].max() - datetime.timedelta(days=1500)"
   ]
  },
  {
   "cell_type": "code",
   "execution_count": null,
   "id": "18ca18a1",
   "metadata": {
    "ExecuteTime": {
     "end_time": "2024-04-28T20:43:03.273831Z",
     "start_time": "2024-04-28T20:43:03.263851Z"
    }
   },
   "outputs": [],
   "source": [
    "# Remove todas as features que foram derivadas\n",
    "#cols_drop = ['semana_do_ano', 'mes', 'ano_semana']\n",
    "#df5 =  df5.drop(cols_drop, axis=1)"
   ]
  },
  {
   "cell_type": "code",
   "execution_count": null,
   "id": "7efd3bd4",
   "metadata": {
    "ExecuteTime": {
     "end_time": "2024-04-28T20:43:03.319910Z",
     "start_time": "2024-04-28T20:43:03.280845Z"
    }
   },
   "outputs": [],
   "source": [
    "# training dataset \n",
    "#X_train = df5.iloc[:-1500]\n",
    "X_train = df5[df5['date'] < '2019-11-22']\n",
    "y_train = X_train['casos_de_dengue']\n",
    "\n",
    "# test dataset\n",
    "#X_test = df5.iloc[-1500:]\n",
    "X_test = df5[df5['date'] >= '2019-11-22']\n",
    "y_test = X_test['casos_de_dengue']\n",
    "\n",
    "print('Training Min Date {}'.format( X_train['date'].min() ))\n",
    "print('Training Max Date {}'.format( X_train['date'].max() ))\n",
    "\n",
    "print('\\nTest Min Date {}'.format( X_test['date'].min() ))\n",
    "print('Test Max Date {}'.format( X_test['date'].max() ))"
   ]
  },
  {
   "cell_type": "code",
   "execution_count": null,
   "id": "696b48e0",
   "metadata": {
    "ExecuteTime": {
     "end_time": "2024-04-28T20:43:03.351447Z",
     "start_time": "2024-04-28T20:43:03.326867Z"
    }
   },
   "outputs": [],
   "source": [
    "X_train.shape[0]*100 / df5.shape[0]"
   ]
  },
  {
   "cell_type": "code",
   "execution_count": null,
   "id": "2bc62a7f",
   "metadata": {
    "ExecuteTime": {
     "end_time": "2024-04-28T20:43:03.398456Z",
     "start_time": "2024-04-28T20:43:03.357442Z"
    }
   },
   "outputs": [],
   "source": [
    "#X_train = X_train.drop(['casos_de_dengue', 'date'], axis=1)\n",
    "#X_test = X_test.drop(['casos_de_dengue', 'date'], axis=1)\n",
    "X_train.head()"
   ]
  },
  {
   "cell_type": "markdown",
   "id": "a38b1aae",
   "metadata": {},
   "source": [
    "### 5.3. Manual Feature Selection"
   ]
  },
  {
   "cell_type": "code",
   "execution_count": null,
   "id": "dcf7aa74",
   "metadata": {
    "ExecuteTime": {
     "end_time": "2024-04-28T20:43:03.430514Z",
     "start_time": "2024-04-28T20:43:03.403462Z"
    }
   },
   "outputs": [],
   "source": [
    "X_train.columns"
   ]
  },
  {
   "cell_type": "code",
   "execution_count": null,
   "id": "87193bff",
   "metadata": {
    "ExecuteTime": {
     "end_time": "2024-04-28T20:43:03.446076Z",
     "start_time": "2024-04-28T20:43:03.436076Z"
    }
   },
   "outputs": [],
   "source": [
    "#cols_selected = ['presenca_do_mosquito', 'precipitacao', 'umidade', 'temperatura', 'dia',\n",
    "#       'mes', 'ano', 'semana_do_ano', 'amostra', 'status_conscientizada',\n",
    "#       'status_desconscientizada', 'status_indisponivel',\n",
    "#       'status_parcialmente conscientizada']\n",
    "\n",
    "cols_selected = ['presenca_do_mosquito', 'precipitacao', 'umidade', 'temperatura', \n",
    "#                 'ano', 'mes_sin', 'mes_cos',\n",
    "                 'mes_sin', 'mes_cos'\n",
    "#                 'status_conscientizada', 'status_desconscientizada', 'status_indisponivel',\n",
    "#                 'status_parcialmente conscientizada', \n",
    "#                 'proliferacao_alta', 'proliferacao_baixa', 'proliferacao_media',\n",
    "#                  'semana_do_ano_sin', 'semana_do_ano_cos'\n",
    "                ]\n",
    "\n",
    "# Adicionar colunas\n",
    "feat_to_add = ['date', 'casos_de_dengue']\n",
    "\n",
    "# Features final\n",
    "cols_selected_full = cols_selected.copy()\n",
    "cols_selected_full.extend(feat_to_add)"
   ]
  },
  {
   "cell_type": "markdown",
   "id": "ea2e0bce",
   "metadata": {},
   "source": [
    "# IV. Modelagem"
   ]
  },
  {
   "cell_type": "markdown",
   "id": "d7cb427a",
   "metadata": {},
   "source": [
    "## 6. MACHINE LEARNING MODELING"
   ]
  },
  {
   "cell_type": "code",
   "execution_count": null,
   "id": "b654e28d",
   "metadata": {
    "ExecuteTime": {
     "end_time": "2024-04-28T20:43:03.477064Z",
     "start_time": "2024-04-28T20:43:03.452070Z"
    }
   },
   "outputs": [],
   "source": [
    "x_train = X_train[cols_selected]\n",
    "x_test = X_test[cols_selected]\n",
    "\n",
    "# Time Series Data Preparation\n",
    "x_training = X_train[cols_selected_full]"
   ]
  },
  {
   "cell_type": "markdown",
   "id": "c15ddbbf",
   "metadata": {},
   "source": [
    "### 6.1. Average Model"
   ]
  },
  {
   "cell_type": "code",
   "execution_count": null,
   "id": "0269a16c",
   "metadata": {
    "ExecuteTime": {
     "end_time": "2024-04-28T20:43:03.508092Z",
     "start_time": "2024-04-28T20:43:03.482071Z"
    }
   },
   "outputs": [],
   "source": [
    "#aux1 = x_test.copy()\n",
    "#aux1['casos_de_dengue'] = y_test.copy()\n",
    "\n",
    "# prediction\n",
    "#aux2 = aux1[['amostra', 'casos_de_dengue']].groupby('amostra').mean().reset_index().rename(columns= {'casos_de_dengue': #'predictions'})\n",
    "#aux1 = pd.merge(aux1, aux2, how='left', on='amostra')\n",
    "#yhat_baseline = aux1['predictions']\n",
    "\n",
    "#aux2 = aux1[['amostra', 'casos_de_dengue']].groupby('amostra').mean().reset_index().rename(columns= {'casos_de_dengue': 'predictions'})\n",
    "#aux1 = pd.merge(aux1, aux2, how='left', on='amostra')\n",
    "# yhat_baseline = aux1['predictions']\n",
    "\n",
    "# performance\n",
    "#baseline_result = ml_error('Average Model', np.expm1( y_test ), np.expm1( yhat_baseline ))\n",
    "#baseline_result"
   ]
  },
  {
   "cell_type": "markdown",
   "id": "29bb4ff2",
   "metadata": {},
   "source": [
    "### 6.2. Linear Regression Model"
   ]
  },
  {
   "cell_type": "code",
   "execution_count": null,
   "id": "b31d6345",
   "metadata": {
    "ExecuteTime": {
     "end_time": "2024-04-28T20:43:03.570678Z",
     "start_time": "2024-04-28T20:43:03.514094Z"
    }
   },
   "outputs": [],
   "source": [
    "# Model\n",
    "lr = LinearRegression().fit(x_train, y_train)\n",
    "\n",
    "# Prediction\n",
    "yhat_lr = lr.predict(x_test)\n",
    "\n",
    "# Performance\n",
    "lr_result = ml_error('Linear Regression', np.expm1( y_test ), np.expm1( yhat_lr ))\n",
    "lr_result"
   ]
  },
  {
   "cell_type": "markdown",
   "id": "24908a84",
   "metadata": {},
   "source": [
    "### 6.3. Linear Regression Regularized Model - Lasso"
   ]
  },
  {
   "cell_type": "code",
   "execution_count": null,
   "id": "92b7bcd5",
   "metadata": {
    "ExecuteTime": {
     "end_time": "2024-04-28T20:43:03.682805Z",
     "start_time": "2024-04-28T20:43:03.574654Z"
    }
   },
   "outputs": [],
   "source": [
    "# Model\n",
    "lrr = Lasso( alpha= 0.01 ).fit(x_train, y_train)\n",
    "\n",
    "# Prediction\n",
    "yhat_lrr = lrr.predict(x_test)\n",
    "\n",
    "# Performance\n",
    "lrr_result = ml_error('Linear Regression Regularized - Lasso', np.expm1( y_test ), np.expm1( yhat_lrr ))\n",
    "lrr_result"
   ]
  },
  {
   "cell_type": "markdown",
   "id": "a1e65638",
   "metadata": {},
   "source": [
    "### 6.4. Random Forest Regressor"
   ]
  },
  {
   "cell_type": "code",
   "execution_count": null,
   "id": "bf6e0cec",
   "metadata": {
    "ExecuteTime": {
     "end_time": "2024-04-28T20:43:06.269062Z",
     "start_time": "2024-04-28T20:43:03.687814Z"
    }
   },
   "outputs": [],
   "source": [
    "# Model\n",
    "rf = RandomForestRegressor(n_estimators=100, n_jobs=-1, random_state=42).fit(x_train, y_train)\n",
    "\n",
    "# Prediction\n",
    "yhat_rf = rf.predict(x_test)\n",
    "\n",
    "# Performance\n",
    "rf_result = ml_error('Random Forest Regressor', np.expm1( y_test ), np.expm1( yhat_rf ))\n",
    "rf_result"
   ]
  },
  {
   "cell_type": "markdown",
   "id": "2c98e123",
   "metadata": {},
   "source": [
    "### 7.5. XGBoost Regressor"
   ]
  },
  {
   "cell_type": "code",
   "execution_count": null,
   "id": "f79bafe8",
   "metadata": {
    "ExecuteTime": {
     "end_time": "2024-04-28T20:43:14.117559Z",
     "start_time": "2024-04-28T20:43:06.271045Z"
    }
   },
   "outputs": [],
   "source": [
    "# {'n_estimators': 2500, 'eta': 0.03, 'max_depth': 3, 'subsample': 0.7, 'colsample_bytree': 0.7, 'min_child_weight': 15}\n",
    "# {'n_estimators': 3500, 'eta': 0.03, 'max_depth': 5, 'subsample': 0.5, 'colsample_bytree': 0.3, 'min_child_weight': 15}\n",
    "\n",
    "# Model\n",
    "model_xgb = xgb.XGBRegressor(objective='reg:squarederror',\n",
    "                                  n_estimators=2500, \n",
    "                                  eta=0.03, \n",
    "                                  max_depth=3, \n",
    "                                  subsample=0.7,\n",
    "                                  colsample_bytree=0.7,\n",
    "                                  min_child_weight=15, random_state=42).fit(x_train, y_train)\n",
    "\n",
    "# Prediction\n",
    "yhat_xgb = model_xgb.predict(x_test)\n",
    "\n",
    "# Performance\n",
    "xgb_result = ml_error('XGBoost Regressor', np.expm1( y_test ), np.expm1( yhat_xgb ))\n",
    "xgb_result"
   ]
  },
  {
   "cell_type": "markdown",
   "id": "b6d977a1",
   "metadata": {
    "ExecuteTime": {
     "end_time": "2024-04-28T17:54:42.616744Z",
     "start_time": "2024-04-28T17:54:21.252385Z"
    }
   },
   "source": [
    "# {'n_estimators': 2500, 'eta': 0.03, 'max_depth': 3, 'subsample': 0.7, 'colsample_bytree': 0.7, 'min_child_weight': 15}\n",
    "# {'n_estimators': 3500, 'eta': 0.03, 'max_depth': 5, 'subsample': 0.5, 'colsample_bytree': 0.3, 'min_child_weight': 15}\n",
    "\n",
    "# Model\n",
    "model_xgb = xgb.XGBRegressor(objective='reg:squarederror',\n",
    "                                  n_estimators=3500, \n",
    "                                  eta=0.03, \n",
    "                                  max_depth=5, \n",
    "                                  subsample=0.5,\n",
    "                                  colsample_bytree=0.3,\n",
    "                                  min_child_weight=15, random_state=42).fit(x_train, y_train)\n",
    "\n",
    "# Prediction\n",
    "yhat_xgb = model_xgb.predict(x_test)\n",
    "\n",
    "# Performance\n",
    "xgb_result = ml_error('XGBoost Regressor', np.expm1( y_test ), np.expm1( yhat_xgb ))\n",
    "xgb_result"
   ]
  },
  {
   "cell_type": "markdown",
   "id": "aa691405",
   "metadata": {},
   "source": [
    "### 7.6. Compare Model's Performance"
   ]
  },
  {
   "cell_type": "code",
   "execution_count": null,
   "id": "18ecfa3a",
   "metadata": {
    "ExecuteTime": {
     "end_time": "2024-04-28T20:43:14.149129Z",
     "start_time": "2024-04-28T20:43:14.120572Z"
    }
   },
   "outputs": [],
   "source": [
    "#modelling_result = pd.concat([baseline_result, lr_result, lrr_result, rf_result, xgb_result])\n",
    "modelling_result = pd.concat([lr_result, lrr_result, rf_result, xgb_result])\n",
    "\n",
    "modelling_result.sort_values('RMSE').reset_index(drop=True)"
   ]
  },
  {
   "cell_type": "markdown",
   "id": "420db31d",
   "metadata": {},
   "source": [
    "## 7. HYPERPARAMETER FINE TUNING"
   ]
  },
  {
   "cell_type": "markdown",
   "id": "90791f63",
   "metadata": {
    "ExecuteTime": {
     "end_time": "2024-04-28T17:09:24.813368Z",
     "start_time": "2024-04-28T16:54:51.541336Z"
    }
   },
   "source": [
    "param = {'n_estimators': [1500, 1700, 2500, 3000, 3500],\n",
    "         'eta': [0.01, 0.03], \n",
    "         'max_depth': [3, 5, 9],\n",
    "         'subsample': [0.1, 0.5, 0.7],\n",
    "         'colsample_bytree': [0.3, 0.7, 0.9],\n",
    "         'min_child_weight': [3, 8, 15]}\n",
    "\n",
    "MAX_EVAL = 5\n",
    "\n",
    "final_result = pd.DataFrame()\n",
    "\n",
    "for i in range( MAX_EVAL ):\n",
    "    # choose values for parameters randomly\n",
    "    hp = { k: random.sample( v, 1 )[0] for k, v in param.items() }\n",
    "    print( hp )\n",
    "    \n",
    "    # model\n",
    "    model_xgb = xgb.XGBRegressor( objective='reg:squarederror',\n",
    "                                  n_estimators=hp['n_estimators'], \n",
    "                                  eta=hp['eta'], \n",
    "                                  max_depth=hp['max_depth'], \n",
    "                                  subsample=hp['subsample'],\n",
    "                                  colsample_bytree=hp['colsample_bytree'],\n",
    "                                  min_child_weight=hp['min_child_weight'], random_state=42)\n",
    "\n",
    "    # performance\n",
    "    result = cross_validation( x_training, 5, 'XGBoost Regressor', model_xgb, verbose=True )\n",
    "    final_result = pd.concat( [final_result, result] )"
   ]
  },
  {
   "cell_type": "markdown",
   "id": "dd814b34",
   "metadata": {
    "ExecuteTime": {
     "end_time": "2024-04-28T17:09:24.859049Z",
     "start_time": "2024-04-28T17:09:24.819366Z"
    }
   },
   "source": [
    "final_result"
   ]
  },
  {
   "cell_type": "markdown",
   "id": "5fec24f2",
   "metadata": {},
   "source": [
    "# V. Validação"
   ]
  },
  {
   "cell_type": "markdown",
   "id": "15d8f66d",
   "metadata": {},
   "source": [
    "## 8. ERROR TRANSLATION AND INTERPRETATION"
   ]
  },
  {
   "cell_type": "code",
   "execution_count": null,
   "id": "c6c1195c",
   "metadata": {},
   "outputs": [],
   "source": []
  },
  {
   "cell_type": "markdown",
   "id": "5c6bc19c",
   "metadata": {},
   "source": [
    "# VI. Implantação"
   ]
  },
  {
   "cell_type": "markdown",
   "id": "920ba408",
   "metadata": {},
   "source": [
    "## 9. DEPLOY / SUBMISSION"
   ]
  },
  {
   "cell_type": "markdown",
   "id": "85fc7a51",
   "metadata": {},
   "source": [
    "### 9.1. Deploy"
   ]
  },
  {
   "cell_type": "code",
   "execution_count": null,
   "id": "c5985036",
   "metadata": {
    "ExecuteTime": {
     "end_time": "2024-04-28T20:43:14.165135Z",
     "start_time": "2024-04-28T20:43:14.152139Z"
    }
   },
   "outputs": [],
   "source": [
    "df_teste = teste.copy()\n",
    "df_teste.shape"
   ]
  },
  {
   "cell_type": "code",
   "execution_count": null,
   "id": "d9eb1cca",
   "metadata": {
    "ExecuteTime": {
     "end_time": "2024-04-28T20:43:14.669111Z",
     "start_time": "2024-04-28T20:43:14.169142Z"
    }
   },
   "outputs": [],
   "source": [
    "# 2.2.3. Remover as linhas que não tem presença do mosquito\n",
    "df_teste = df_teste.drop('casos_de_dengue', axis=1)\n",
    "\n",
    "# 2.2.4. Converter variáveis\n",
    "colunas_float = ['precipitacao',\n",
    "                 'umidade',\n",
    "                 'temperatura']\n",
    "\n",
    "colunas_int = ['presenca_do_mosquito']\n",
    "\n",
    "# Substituir ',' por '.'\n",
    "for col in colunas_float:\n",
    "    df_teste[col] = df_teste[col].apply(lambda x: x.replace(',', '.') if isinstance(x, str) else x)\n",
    "\n",
    "# Converter colunas_float de object para float\n",
    "for col in colunas_float:\n",
    "    df_teste[col] = df_teste[col].astype(float)\n",
    "\n",
    "# Converter date de object para datetime\n",
    "df_teste['date'] = pd.to_datetime(df_teste['date'])\n",
    "\n",
    "# 2.4.1. Separar data\n",
    "# Criar colunas de dia, mes, ano e semana do ano\n",
    "#df_teste['dia'] = df_teste['date'].dt.day\n",
    "df_teste['mes'] = df_teste['date'].dt.month\n",
    "#df_teste['ano'] = df_teste['date'].dt.year\n",
    "df_teste['semana_do_ano'] = df_teste['date'].dt.weekofyear\n",
    "\n",
    "# 'ano_semana': semana do ano, no formato string 'YYYY-WW'\n",
    "#df_teste['ano_semana'] = df_teste['date'].dt.strftime( '%Y-%W' )\n",
    "\n",
    "# 2.2.4. Preencher NA's\n",
    "presenca_mediana = df_teste['presenca_do_mosquito'].median()\n",
    "df_teste['presenca_do_mosquito'] = df_teste['presenca_do_mosquito'].fillna(presenca_mediana)\n",
    "\n",
    "preencher_media_semana(df2, ['umidade', 'temperatura', 'precipitacao'])\n",
    "\n",
    "# Converter colunas_int de object para float\n",
    "for col in colunas_int:\n",
    "    df_teste[col] = df_teste[col].astype(int)\n",
    "\n",
    "# 2.2.5. Excluir os demais NA's\n",
    "df_teste = df_teste.fillna(0)\n",
    "#df_teste = df_teste.dropna().reset_index(drop=True)\n",
    "df_teste['casos_de_dengue'] = np.nan\n",
    "\n",
    "# 2.4. FEATURE ENGINEERING\n",
    "\n",
    "# 2.4.2. Separar em 3 grupos\n",
    "#df_teste['proliferacao'] = df_teste['semana_do_ano'].apply(lambda x: definir_proliferacao(x))\n",
    "\n",
    "# 4.1. Normalização do fenômeno\n",
    "df_teste['casos_de_dengue'] = np.log1p(df_teste['casos_de_dengue'])\n",
    "\n",
    "# 4.2. Rescala de Variáveis Numéricas\n",
    "mm = pp.MinMaxScaler()\n",
    "ss = pp.StandardScaler()\n",
    "rs = pp.RobustScaler()\n",
    "\n",
    "df_teste['presenca_do_mosquito'] = mm.fit_transform(df_teste[['presenca_do_mosquito']])\n",
    "df_teste['precipitacao']         = ss.fit_transform(df_teste[['precipitacao']])\n",
    "df_teste['umidade']              = ss.fit_transform(df_teste[['umidade']])\n",
    "df_teste['temperatura']          = ss.fit_transform(df_teste[['temperatura']])\n",
    "\n",
    "# 4.3. Encodar variáveis categóricas\n",
    "#df_teste = pd.get_dummies(df_teste, prefix=['status'], columns=['status'])\n",
    "#df_teste = pd.get_dummies(df_teste, prefix=['proliferacao'], columns=['proliferacao'])\n",
    "\n",
    "# 4.4. Transformação de natureza\n",
    "# mes\n",
    "df_teste['mes_sin'] = df_teste['mes'].apply( lambda x: np.sin( x * (2 * np.pi/12) ) )\n",
    "df_teste['mes_cos'] = df_teste['mes'].apply( lambda x: np.cos( x * (2 * np.pi/12) ) )\n",
    "\n",
    "# week_of_year\n",
    "df_teste['semana_do_ano_sin'] = df_teste['semana_do_ano'].apply( lambda x: np.sin( x * (2 * np.pi/52) ) )\n",
    "df_teste['semana_do_ano_cos'] = df_teste['semana_do_ano'].apply( lambda x: np.cos( x * (2 * np.pi/52) ) )"
   ]
  },
  {
   "cell_type": "code",
   "execution_count": null,
   "id": "486bab65",
   "metadata": {
    "ExecuteTime": {
     "end_time": "2024-04-28T20:43:14.699843Z",
     "start_time": "2024-04-28T20:43:14.674170Z"
    }
   },
   "outputs": [],
   "source": [
    "df_teste.shape"
   ]
  },
  {
   "cell_type": "markdown",
   "id": "25dcc735",
   "metadata": {},
   "source": [
    "### 9.2. Submission"
   ]
  },
  {
   "cell_type": "code",
   "execution_count": null,
   "id": "82d49389",
   "metadata": {
    "ExecuteTime": {
     "end_time": "2024-04-28T20:43:14.731879Z",
     "start_time": "2024-04-28T20:43:14.704834Z"
    }
   },
   "outputs": [],
   "source": [
    "df_teste.columns"
   ]
  },
  {
   "cell_type": "code",
   "execution_count": null,
   "id": "3b3f46b7",
   "metadata": {
    "ExecuteTime": {
     "end_time": "2024-04-28T20:43:14.810399Z",
     "start_time": "2024-04-28T20:43:14.737393Z"
    }
   },
   "outputs": [],
   "source": [
    "aux_teste  = df_teste[cols_selected]\n",
    "y_hat_test = model_xgb.predict(aux_teste)"
   ]
  },
  {
   "cell_type": "code",
   "execution_count": null,
   "id": "a4921473",
   "metadata": {
    "ExecuteTime": {
     "end_time": "2024-04-28T20:43:14.857962Z",
     "start_time": "2024-04-28T20:43:14.818401Z"
    }
   },
   "outputs": [],
   "source": [
    "final_test = pd.concat([df_teste, pd.Series(np.expm1(y_hat_test), name='Casos de dengue')], axis=1)\n",
    "final_test = final_test[['date', 'Casos de dengue']].sort_values('date')"
   ]
  },
  {
   "cell_type": "code",
   "execution_count": null,
   "id": "f594661a",
   "metadata": {
    "ExecuteTime": {
     "end_time": "2024-04-28T20:43:14.889962Z",
     "start_time": "2024-04-28T20:43:14.867970Z"
    }
   },
   "outputs": [],
   "source": [
    "final_test.shape"
   ]
  },
  {
   "cell_type": "code",
   "execution_count": null,
   "id": "10d27760",
   "metadata": {
    "ExecuteTime": {
     "end_time": "2024-04-28T20:43:14.952579Z",
     "start_time": "2024-04-28T20:43:14.914013Z"
    }
   },
   "outputs": [],
   "source": [
    "final_test = final_test.rename(columns={'date': 'Date', 'Casos de dengue': 'Casos de dengue'})\n",
    "final_test"
   ]
  },
  {
   "cell_type": "code",
   "execution_count": null,
   "id": "d168d30a",
   "metadata": {
    "ExecuteTime": {
     "end_time": "2024-04-28T20:43:14.984580Z",
     "start_time": "2024-04-28T20:43:14.957551Z"
    }
   },
   "outputs": [],
   "source": [
    "# Exportar o arquivo\n",
    "final_test.to_csv('datasets/submission_xgb_XX.csv', index=False)"
   ]
  },
  {
   "cell_type": "code",
   "execution_count": null,
   "id": "a0ab4dae",
   "metadata": {
    "ExecuteTime": {
     "end_time": "2024-04-28T20:43:15.000548Z",
     "start_time": "2024-04-28T20:43:14.989551Z"
    }
   },
   "outputs": [],
   "source": [
    "# 48065.99724"
   ]
  }
 ],
 "metadata": {
  "kernelspec": {
   "display_name": "Python 3 (ipykernel)",
   "language": "python",
   "name": "python3"
  },
  "language_info": {
   "codemirror_mode": {
    "name": "ipython",
    "version": 3
   },
   "file_extension": ".py",
   "mimetype": "text/x-python",
   "name": "python",
   "nbconvert_exporter": "python",
   "pygments_lexer": "ipython3",
   "version": "3.12.3"
  }
 },
 "nbformat": 4,
 "nbformat_minor": 5
}
